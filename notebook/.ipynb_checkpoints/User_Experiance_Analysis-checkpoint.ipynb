{
 "cells": [
  {
   "cell_type": "code",
   "execution_count": null,
   "id": "9e2a7c98-86f3-4d9e-bb65-d47a776ab624",
   "metadata": {},
   "outputs": [],
   "source": [
    "from dotenv import load_dotenv\n",
    "import pandas as pd\n",
    "import matplotlib.pyplot as plt\n",
    "import seaborn as sns\n"
   ]
  },
  {
   "cell_type": "code",
   "execution_count": null,
   "id": "03fe1c1c-44aa-40b1-a745-dcb1229c810d",
   "metadata": {},
   "outputs": [],
   "source": [
    "#to move from notebooks/example_notebook.ipynb\n",
    "import sys\n",
    "import os\n",
    "sys.path.append(os.path.abspath('../scripts'))"
   ]
  },
  {
   "cell_type": "code",
   "execution_count": null,
   "id": "3cbd6416-05b9-4970-8a89-22ec83e7d26b",
   "metadata": {},
   "outputs": [],
   "source": [
    "from load_data import load_data_from_postgres, load_data_using_sqlalchemy\n",
    "from sql_queries import execute_telecom_queries\n"
   ]
  },
  {
   "cell_type": "code",
   "execution_count": null,
   "id": "88b4fa04-8052-431a-ab05-ef7c0887c62f",
   "metadata": {},
   "outputs": [],
   "source": [
    "# Load environment variables from .env file\n",
    "load_dotenv()\n",
    "\n",
    "# Fetch database connection parameters from environment variables\n",
    "DB_HOST = os.getenv(\"DB_HOST\")\n",
    "DB_PORT = os.getenv(\"DB_PORT\")\n",
    "DB_NAME = os.getenv(\"DB_NAME\")\n",
    "DB_USER = os.getenv(\"DB_USER\")\n",
    "DB_PASSWORD = os.getenv(\"DB_PASSWORD\")\n"
   ]
  },
  {
   "cell_type": "code",
   "execution_count": null,
   "id": "9a442950-7f55-4400-9941-03f1d0b95603",
   "metadata": {
    "scrolled": true
   },
   "outputs": [],
   "source": [
    "# Define the SQL query\n",
    "query = \"SELECT * FROM xdr_data;\"\n",
    "\n",
    "# Load data from PostgreSQL using SQLAlchemy\n",
    "df = load_data_using_sqlalchemy(query)\n",
    "\n",
    "# Display the first few rows of the dataframe\n",
    "if df is not None:\n",
    "    print(\"Successfully loaded the data\")\n",
    "else:\n",
    "    print(\"Failed to load data.\")"
   ]
  },
  {
   "cell_type": "code",
   "execution_count": null,
   "id": "6f273482-fc8d-4995-91a4-b5e04aef5462",
   "metadata": {},
   "outputs": [],
   "source": [
    "print(\"using the prefered method(SQLAlchemy)\")\n",
    "df"
   ]
  },
  {
   "cell_type": "code",
   "execution_count": null,
   "id": "73eed1e4-958a-445f-9c81-a97cc6d3bcc1",
   "metadata": {},
   "outputs": [],
   "source": [
    "# Count missing values per column\n",
    "missing_values = df.isnull().sum()\n",
    "\n",
    "# Percentage of missing values per column\n",
    "missing_percentage = (df.isnull().sum() / len(df)) * 100\n",
    "print(missing_percentage)"
   ]
  },
  {
   "cell_type": "code",
   "execution_count": null,
   "id": "513765d4-f42a-4090-b650-61202b4821d3",
   "metadata": {},
   "outputs": [],
   "source": [
    "#handling the missing value\n",
    "\n",
    "import user_overview_EDA as uoe\n",
    "uoe.handle_missing_values(df, unique_identifiers=['Bearer Id', 'IMSI', 'MSISDN/Number', 'IMEI'])\n",
    "\n"
   ]
  },
  {
   "cell_type": "code",
   "execution_count": null,
   "id": "215cfe39-9518-4bcb-a7f0-42b9d1245f66",
   "metadata": {},
   "outputs": [],
   "source": [
    "#function to treat outliers\n",
    "uoe.treat_outliers(df)"
   ]
  },
  {
   "cell_type": "code",
   "execution_count": null,
   "id": "ac6852ec-25f8-4c13-895d-e3a63c0f31c1",
   "metadata": {},
   "outputs": [],
   "source": [
    "#Aggregate Engagement Metrics Per Customer\n",
    "import User_Experiance as uex\n",
    "data = uoe.treat_outliers(df)\n",
    "uex.aggregate_per_customer(data)"
   ]
  },
  {
   "cell_type": "code",
   "execution_count": null,
   "id": "5c3960f4-71a8-4c98-b957-815bcee0b380",
   "metadata": {},
   "outputs": [],
   "source": [
    "#function to compute top bottom and frequent tcp rtt and throughput\n",
    "import User_Experiance as uex\n",
    "# Define columns of interest\n",
    "columns_of_interest = {\n",
    "    'TCP DL Retrans. Vol (Bytes)': 'TCP_DL',\n",
    "    'TCP UL Retrans. Vol (Bytes)': 'TCP_UL',\n",
    "    'Avg RTT DL (ms)': 'RTT_DL',\n",
    "    'Avg RTT UL (ms)': 'RTT_UL',\n",
    "    'Avg Bearer TP DL (kbps)': 'Throughput_DL',\n",
    "    'Avg Bearer TP UL (kbps)': 'Throughput_UL'\n",
    "}\n",
    "uex.compute_and_display_stats(df, columns_of_interest, top_n=10)"
   ]
  },
  {
   "cell_type": "code",
   "execution_count": null,
   "id": "572346ec-fbe4-4d94-b3e0-e3b9919447bd",
   "metadata": {},
   "outputs": [],
   "source": [
    "# Import the necessary functions from the module\n",
    "from User_Experiance import distribution_per_handset\n",
    "#Distribution of Average Throughput per Handset Type\n",
    "# Downlink throughput\n",
    "throughput_dl = distribution_per_handset(\n",
    "    df, \n",
    "    'Throughput_DL',  \n",
    "    'Handset Type',   \n",
    "    'Top 10 Handsets by Average Downlink Throughput',  \n",
    "    'Average Downlink Throughput (kbps)',  \n",
    "    top_n=15  \n",
    ")"
   ]
  },
  {
   "cell_type": "code",
   "execution_count": null,
   "id": "c7113e5a-5a25-4754-a7cc-24b1e3b2cd80",
   "metadata": {},
   "outputs": [],
   "source": [
    "# Uplink throughput\n",
    "throughput_ul = distribution_per_handset(\n",
    "    df, \n",
    "    'Throughput_UL',  \n",
    "    'Handset Type',   \n",
    "    'Top 15 Handsets by Average Uplink Throughput',  \n",
    "    'Average Uplink Throughput (kbps)',  \n",
    "    top_n=15  \n",
    ")"
   ]
  },
  {
   "cell_type": "code",
   "execution_count": null,
   "id": "c1464faa-a3dc-473b-b215-848629377cea",
   "metadata": {},
   "outputs": [],
   "source": [
    "# Distribution of Average TCP Retransmission per Handset Type\n",
    "# Downlink TCP retransmission\n",
    "tcp_dl_retrans = distribution_per_handset(\n",
    "    df, \n",
    "    'TCP_DL',  \n",
    "    'Handset Type',  \n",
    "    'Top 15 Handsets by Average Downlink TCP Retransmission',  \n",
    "    'Average Downlink TCP Retransmission (Bytes)', \n",
    "    top_n=15  \n",
    ")"
   ]
  },
  {
   "cell_type": "code",
   "execution_count": null,
   "id": "21838863-36b2-4e04-a83f-3257a821c05a",
   "metadata": {},
   "outputs": [],
   "source": [
    "# Uplink TCP retransmission\n",
    "tcp_ul_retrans = distribution_per_handset(\n",
    "    df, \n",
    "    'TCP_UL',  \n",
    "    'Handset Type',  \n",
    "    'Top 15 Handsets by Average Uplink TCP Retransmission',  \n",
    "    'Average Uplink TCP Retransmission (Bytes)',  \n",
    "    top_n=15  \n",
    ")"
   ]
  },
  {
   "cell_type": "code",
   "execution_count": null,
   "id": "d4ea0885-bdf8-4efa-b6aa-8f49fe85c95c",
   "metadata": {},
   "outputs": [],
   "source": []
  }
 ],
 "metadata": {
  "kernelspec": {
   "display_name": "Python (venv)",
   "language": "python",
   "name": "venv"
  },
  "language_info": {
   "codemirror_mode": {
    "name": "ipython",
    "version": 3
   },
   "file_extension": ".py",
   "mimetype": "text/x-python",
   "name": "python",
   "nbconvert_exporter": "python",
   "pygments_lexer": "ipython3",
   "version": "3.12.4"
  }
 },
 "nbformat": 4,
 "nbformat_minor": 5
}
