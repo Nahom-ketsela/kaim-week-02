{
 "cells": [
  {
   "cell_type": "code",
   "execution_count": 1,
   "id": "620c7196-a728-44d2-b07c-e9a9b622d36b",
   "metadata": {},
   "outputs": [],
   "source": [
    "from dotenv import load_dotenv\n",
    "import pandas as pd\n",
    "import matplotlib.pyplot as plt\n",
    "import seaborn as sns\n"
   ]
  },
  {
   "cell_type": "code",
   "execution_count": 2,
   "id": "3c00933e-87e9-42b3-a9b2-21cf2b09a1c1",
   "metadata": {},
   "outputs": [],
   "source": [
    "#to move from notebooks/example_notebook.ipynb\n",
    "import sys\n",
    "import os\n",
    "sys.path.append(os.path.abspath('../scripts'))"
   ]
  },
  {
   "cell_type": "code",
   "execution_count": null,
   "id": "6d4fb885-4e42-4696-9ee2-201b2e078252",
   "metadata": {},
   "outputs": [],
   "source": [
    "from load_data import load_data_from_postgres, load_data_using_sqlalchemy\n",
    "from sql_queries import execute_telecom_queries\n"
   ]
  },
  {
   "cell_type": "code",
   "execution_count": null,
   "id": "ca2407de-e223-49f9-b919-6afe92db0a70",
   "metadata": {},
   "outputs": [],
   "source": [
    "# Load environment variables from .env file\n",
    "load_dotenv()\n",
    "\n",
    "# Fetch database connection parameters from environment variables\n",
    "DB_HOST = os.getenv(\"DB_HOST\")\n",
    "DB_PORT = os.getenv(\"DB_PORT\")\n",
    "DB_NAME = os.getenv(\"DB_NAME\")\n",
    "DB_USER = os.getenv(\"DB_USER\")\n",
    "DB_PASSWORD = os.getenv(\"DB_PASSWORD\")\n"
   ]
  },
  {
   "cell_type": "code",
   "execution_count": null,
   "id": "8c1f8770-c5fe-42ed-ac29-789df8b17141",
   "metadata": {},
   "outputs": [],
   "source": [
    "# Define your SQL query\n",
    "query = \"SELECT * FROM xdr_data;\"\n",
    "\n",
    "# Load data from PostgreSQL using SQLAlchemy\n",
    "df = load_data_using_sqlalchemy(query)\n",
    "\n",
    "# Display the first few rows of the dataframe\n",
    "if df is not None:\n",
    "    print(\"Successfully loaded the data\")\n",
    "else:\n",
    "    print(\"Failed to load data.\")"
   ]
  },
  {
   "cell_type": "code",
   "execution_count": null,
   "id": "a19a1953-12c7-405f-95d6-5b13c63ee368",
   "metadata": {},
   "outputs": [],
   "source": [
    "print(\"using the prefered method(SQLAlchemy)\")\n",
    "df"
   ]
  },
  {
   "cell_type": "code",
   "execution_count": null,
   "id": "0b22c0ee-e3b3-4b29-b327-59438c68d91b",
   "metadata": {},
   "outputs": [],
   "source": [
    "# Count missing values per column\n",
    "missing_values = df.isnull().sum()\n",
    "\n",
    "# Percentage of missing values per column\n",
    "missing_percentage = (df.isnull().sum() / len(df)) * 100\n",
    "print(missing_percentage)"
   ]
  },
  {
   "cell_type": "code",
   "execution_count": null,
   "id": "501ebf1d-bd5c-478b-afbb-05a9611166b1",
   "metadata": {},
   "outputs": [],
   "source": []
  },
  {
   "cell_type": "code",
   "execution_count": null,
   "id": "310ba636-2ace-4ff1-97a4-9fbf02638730",
   "metadata": {},
   "outputs": [],
   "source": [
    "#handling the missing value\n",
    "\n",
    "import user_overview_EDA as uoe\n",
    "uoe.handle_missing_values(df, unique_identifiers=['Bearer Id', 'IMSI', 'MSISDN/Number', 'IMEI'])\n",
    "\n"
   ]
  },
  {
   "cell_type": "code",
   "execution_count": null,
   "id": "da3ba488-04a4-4197-98f4-30977720566c",
   "metadata": {},
   "outputs": [],
   "source": [
    "#function to treat outliers\n",
    "uoe.treat_outliers(df)"
   ]
  },
  {
   "cell_type": "code",
   "execution_count": null,
   "id": "01ec51ad-0c05-46c2-81ef-58a518e7ef2b",
   "metadata": {},
   "outputs": [],
   "source": [
    "#Aggregate Engagement Metrics Per Customer\n",
    "import User_Engagment as ue\n",
    "ue.aggregate_engagement_metrics(df)"
   ]
  },
  {
   "cell_type": "code",
   "execution_count": null,
   "id": "42f4f762-1e78-427e-b468-de3dd2fa26f9",
   "metadata": {},
   "outputs": [],
   "source": [
    "# Report Top 10 Customers\n",
    "user_metrics= ue.aggregate_engagement_metrics(df)\n",
    "ue.report_top_users(user_metrics)"
   ]
  },
  {
   "cell_type": "code",
   "execution_count": null,
   "id": "15fcea8e-503e-46a8-9e2d-607f22fff683",
   "metadata": {},
   "outputs": [],
   "source": [
    "# Normalize Metrics\n",
    "ue.normalize_metrics(user_metrics)"
   ]
  },
  {
   "cell_type": "code",
   "execution_count": null,
   "id": "dbe42719-b46c-4a98-af33-82c793ce0da1",
   "metadata": {},
   "outputs": [],
   "source": [
    "normalized_metrics= ue.normalize_metrics(user_metrics)\n",
    "ue.apply_kmeans(normalized_metrics, k=3)\n"
   ]
  },
  {
   "cell_type": "code",
   "execution_count": null,
   "id": "b463bfa7-ddeb-42d9-8af3-629b85854d8c",
   "metadata": {},
   "outputs": [],
   "source": [
    "# Analyze clusters\n",
    "normalized_metrics = ue.normalize_metrics(user_metrics)  # Normalize the metrics\n",
    "\n",
    "ue.analyze_clusters(user_metrics, normalized_metrics)  # Analyze the clusters\n"
   ]
  },
  {
   "cell_type": "code",
   "execution_count": null,
   "id": "838b8af9-3069-48be-8e12-d4def6e2f9f8",
   "metadata": {},
   "outputs": [],
   "source": []
  }
 ],
 "metadata": {
  "kernelspec": {
   "display_name": "Python (venv)",
   "language": "python",
   "name": "venv"
  },
  "language_info": {
   "codemirror_mode": {
    "name": "ipython",
    "version": 3
   },
   "file_extension": ".py",
   "mimetype": "text/x-python",
   "name": "python",
   "nbconvert_exporter": "python",
   "pygments_lexer": "ipython3",
   "version": "3.12.4"
  }
 },
 "nbformat": 4,
 "nbformat_minor": 5
}
